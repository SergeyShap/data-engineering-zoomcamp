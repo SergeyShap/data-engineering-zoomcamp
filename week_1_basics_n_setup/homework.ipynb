{
 "cells": [
  {
   "cell_type": "markdown",
   "metadata": {},
   "source": [
    "# **Question 3** Count records *"
   ]
  },
  {
   "cell_type": "markdown",
   "metadata": {},
   "source": [
    "How many taxi trips were there on *January 15*?\n",
    "\n",
    "\n",
    "```sql\n",
    "SELECT\n",
    "\tCOUNT(*)\n",
    "FROM \n",
    "\tyellow_taxi_trips\n",
    "WHERE \n",
    "\tDATE(tpep_pickup_datetime) = '2021-01-15'\n",
    "```\n",
    "\n",
    "**Answer**: 53024"
   ]
  },
  {
   "cell_type": "markdown",
   "metadata": {},
   "source": [
    "# Question 4 Largest tip for each day *"
   ]
  },
  {
   "cell_type": "markdown",
   "metadata": {},
   "source": [
    "On which day it was the largest tip in January? (*note: it's not a typo, it's \"tip\", not \"trip\"*)\n",
    "\n",
    "```sql\n",
    "WITH max_tips AS (\n",
    "    SELECT \n",
    "\t\tDATE(tpep_pickup_datetime) as d, max(tip_amount) as max_tip\n",
    "\tFROM \n",
    "\t\tyellow_taxi_trips\n",
    "\tGROUP BY \n",
    "\t\td\n",
    "   )\n",
    "\n",
    "SELECT \n",
    "\tDATE(tpep_pickup_datetime)\n",
    "FROM \n",
    "\tyellow_taxi_trips\n",
    "WHERE \n",
    "\ttip_amount = (SELECT \n",
    "\t\t\t\t\tMAX(max_tip)\n",
    "\t\t\t\t FROM \n",
    "\t\t\t\t\tmax_tips) \n",
    "```\n",
    "\n",
    "**Answer**: 2021-01-20"
   ]
  },
  {
   "cell_type": "markdown",
   "metadata": {},
   "source": [
    "# Question 5: Most popular destination *"
   ]
  },
  {
   "cell_type": "markdown",
   "metadata": {},
   "source": [
    "*What was the most popular destination for passengers picked up in central park on January 14? Enter the zone name (not id). If the zone name is unknown (missing), write \"Unknown\"*\n",
    "\n",
    "\n",
    "```sql\n",
    "WITH max_value as (SELECT\n",
    "\t\t\t\t   \t\t\"DOLocationID\" as dest_code, COUNT(\"DOLocationID\") as counted_value\n",
    "\t\t\t\t   FROM \n",
    "\t\t\t\t   \t\tyellow_taxi_trips\n",
    "\t\t\t\t   WHERE \n",
    "\t\t\t\t   \t\t\"PULocationID\" = 43 and DATE(tpep_pickup_datetime) = '2021-01-14'\n",
    "\t\t\t\t   GROUP BY \n",
    "\t\t\t\t   \t\t\"DOLocationID\"\n",
    "\t\t\t\t   ORDER BY \n",
    "\t\t\t\t   \t\tcounted_value DESC\n",
    "\t\t\t\t   LIMIT \n",
    "\t\t\t\t   \t\t1\n",
    "\t\t\t\t  )\n",
    "                  \n",
    "SELECT \n",
    "\tdest_code\n",
    "FROM \n",
    "\tmax_value\n",
    "```\n",
    "\n"
   ]
  },
  {
   "cell_type": "markdown",
   "metadata": {},
   "source": [
    "Here i use pandas to find area, here is a code:\n",
    "    \n",
    "```python\n",
    "df = pd.read_csv('./taxi+_zone_lookup.csv')\n",
    "\n",
    "df[df['Zone'] == 'Central Park']\n",
    "```\n",
    "i find LocationId code and use it in my query\n",
    "\n",
    "|LocationID|Borough|Zone|service_zone\n",
    "|-|-|-|-|\n",
    "|43|Manhattan|Central Park|Yellow Zone\n",
    "\n",
    "Than when i found zone and search what is it name by LocarionID\n",
    "\n",
    "```python\n",
    "df[df['LocationID'] == 237]\n",
    "```\n",
    "\n",
    "|LocationID|Borough|Zone|service_zone\n",
    "|-|-|-|-|\n",
    "|237|Manhattan|Upper East Side South|Yellow Zone\n",
    "\n",
    "**Answer is** Upper East Side South*"
   ]
  },
  {
   "cell_type": "markdown",
   "metadata": {},
   "source": [
    "# Another version"
   ]
  },
  {
   "cell_type": "markdown",
   "metadata": {},
   "source": [
    "```SQL\n",
    "WITH max_value as (SELECT\n",
    "\t\t\t\t   \t\t\"DOLocationID\" as dest_code, COUNT(\"DOLocationID\") as counted_value\n",
    "\t\t\t\t   FROM \n",
    "\t\t\t\t   \t\tyellow_taxi_trips\n",
    "\t\t\t\t   WHERE \n",
    "\t\t\t\t   \t\t\"PULocationID\" = 43 and DATE(tpep_pickup_datetime) = '2021-01-14'\n",
    "\t\t\t\t   GROUP BY \n",
    "\t\t\t\t   \t\t\"DOLocationID\"\n",
    "\t\t\t\t   ORDER BY \n",
    "\t\t\t\t   \t\tcounted_value DESC\n",
    "\t\t\t\t   LIMIT \n",
    "\t\t\t\t   \t\t1\n",
    "\t\t\t\t  )\n",
    "                  \n",
    "SELECT \n",
    "\t\"Zone\"\n",
    "FROM \n",
    "\tzone_lookup\n",
    "WHERE \"LocationID\" = (SELECT dest_code FROM max_value)\n",
    "```"
   ]
  },
  {
   "cell_type": "markdown",
   "metadata": {},
   "source": [
    "# Question 6: Most expensive route *"
   ]
  },
  {
   "cell_type": "markdown",
   "metadata": {},
   "source": [
    "What's the pickup-dropoff pair with the largest average price for a ride (calculated based on total_amount)? Enter two zone names separated by a slashFor example:\"Jamaica Bay / Clinton East\"If any of the zone names are unknown (missing), write \"Unknown\". For example, \"Unknown / Clinton East\"."
   ]
  },
  {
   "cell_type": "markdown",
   "metadata": {},
   "source": [
    "```sql\n",
    "SELECT \n",
    "\tdest_code\n",
    "FROM \n",
    "\tmax_value\n",
    "\n",
    "SELECT \n",
    "\t\"PULocationID\" as pickup, \n",
    "\t\"DOLocationID\" as distantion,\n",
    "\tAVG(total_amount) avg_amount\n",
    "FROM\n",
    "\tyellow_taxi_trips\n",
    "GROUP BY\n",
    "\t\"PULocationID\", \"DOLocationID\"\n",
    "ORDER BY\n",
    "\tavg_amount DESC\n",
    "LIMIT 1\n",
    "```\n",
    "\n",
    "**Answer:**  LocationID 4 and  LocationID 265 ( Alphabet City and Unknown)"
   ]
  },
  {
   "cell_type": "markdown",
   "metadata": {},
   "source": [
    "# Another version"
   ]
  },
  {
   "cell_type": "markdown",
   "metadata": {},
   "source": [
    "```SQL\n",
    "WITH most_expensive as (SELECT \n",
    "\t\t\t\t\t\t\t\"PULocationID\" as pickup, \n",
    "\t\t\t\t\t\t\t\"DOLocationID\" as distantion,\n",
    "\t\t\t\t\t\t\tAVG(total_amount) avg_amount\n",
    "\t\t\t\t\t\tFROM\n",
    "\t\t\t\t\t\t\tyellow_taxi_trips\n",
    "\t\t\t\t\t\tGROUP BY\n",
    "\t\t\t\t\t\t\t\"PULocationID\", \"DOLocationID\"\n",
    "\t\t\t\t\t\tORDER BY\n",
    "\t\t\t\t\t\t\tavg_amount DESC\n",
    "\t\t\t\t\t\tLIMIT 1)\n",
    "\n",
    "                  \n",
    "SELECT \n",
    "\tf.\"Zone\" PickupZone,\n",
    "\ts.\"Zone\" DeliveryZone\n",
    "FROM \n",
    "\tzone_lookup f, \n",
    "\tzone_lookup s\n",
    "WHERE \n",
    "    f.\"LocationID\" in (SELECT pickup from most_expensive) AND\n",
    "    s.\"LocationID\" in (SELECT distantion from most_expensive)\n",
    "```"
   ]
  }
 ],
 "metadata": {
  "kernelspec": {
   "display_name": "Python 3",
   "language": "python",
   "name": "python3"
  },
  "language_info": {
   "codemirror_mode": {
    "name": "ipython",
    "version": 3
   },
   "file_extension": ".py",
   "mimetype": "text/x-python",
   "name": "python",
   "nbconvert_exporter": "python",
   "pygments_lexer": "ipython3",
   "version": "3.7.3"
  }
 },
 "nbformat": 4,
 "nbformat_minor": 4
}
